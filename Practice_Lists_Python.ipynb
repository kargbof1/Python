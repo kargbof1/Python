{
 "cells": [
  {
   "cell_type": "code",
   "execution_count": 1,
   "id": "8588f865",
   "metadata": {},
   "outputs": [
    {
     "data": {
      "text/plain": [
       "['Fatmata', 'Davida', 'Bob']"
      ]
     },
     "execution_count": 1,
     "metadata": {},
     "output_type": "execute_result"
    }
   ],
   "source": [
    "# define a list of strings\n",
    "names = [\"Fatmata\",\"Davida\",\"Bob\"]\n",
    "names"
   ]
  },
  {
   "cell_type": "code",
   "execution_count": 2,
   "id": "d287860d",
   "metadata": {},
   "outputs": [
    {
     "name": "stdout",
     "output_type": "stream",
     "text": [
      "Fatmata\n",
      "Davida\n",
      "Bob\n"
     ]
    }
   ],
   "source": [
    "# loop over the names list, and print each string one at a time\n",
    "for name in names:\n",
    "    print(name)"
   ]
  },
  {
   "cell_type": "code",
   "execution_count": 3,
   "id": "f33c73c5",
   "metadata": {},
   "outputs": [
    {
     "data": {
      "text/plain": [
       "'Fatmata'"
      ]
     },
     "execution_count": 3,
     "metadata": {},
     "output_type": "execute_result"
    }
   ],
   "source": [
    "#Print the first name in the list\n",
    "first_Name = names[0]\n",
    "first_Name"
   ]
  },
  {
   "cell_type": "code",
   "execution_count": 4,
   "id": "1c13d7dd",
   "metadata": {},
   "outputs": [
    {
     "data": {
      "text/plain": [
       "['Fatmata']"
      ]
     },
     "execution_count": 4,
     "metadata": {},
     "output_type": "execute_result"
    }
   ],
   "source": [
    "#Print the first name in the list another way to do it\n",
    "first_element = names[:1]\n",
    "first_element"
   ]
  },
  {
   "cell_type": "code",
   "execution_count": 5,
   "id": "08816b73",
   "metadata": {},
   "outputs": [
    {
     "data": {
      "text/plain": [
       "'Bob'"
      ]
     },
     "execution_count": 5,
     "metadata": {},
     "output_type": "execute_result"
    }
   ],
   "source": [
    "#Print the last item (name) in the list without knowing the length of the list \n",
    "last_element = names[-1]\n",
    "last_element"
   ]
  },
  {
   "cell_type": "code",
   "execution_count": 6,
   "id": "141dcdbe",
   "metadata": {},
   "outputs": [
    {
     "data": {
      "text/plain": [
       "'Bob'"
      ]
     },
     "execution_count": 6,
     "metadata": {},
     "output_type": "execute_result"
    }
   ],
   "source": [
    "#Last Item\n",
    "last_item = names.pop()\n",
    "last_item"
   ]
  },
  {
   "cell_type": "code",
   "execution_count": 7,
   "id": "d1e3d182",
   "metadata": {},
   "outputs": [
    {
     "data": {
      "text/plain": [
       "['Fatmata', 'Davida', 'Bob']"
      ]
     },
     "execution_count": 7,
     "metadata": {},
     "output_type": "execute_result"
    }
   ],
   "source": [
    "new_names = [\"Fatmata\",\"Davida\",\"Bob\"]\n",
    "new_names"
   ]
  },
  {
   "cell_type": "code",
   "execution_count": 8,
   "id": "f4138b21",
   "metadata": {},
   "outputs": [
    {
     "name": "stdout",
     "output_type": "stream",
     "text": [
      "['Fatmata', 'Davida', 'Bob', 'Charlie']\n"
     ]
    }
   ],
   "source": [
    "#Add a name to the list \n",
    "new_names.append(\"Charlie\")\n",
    "print(new_names)"
   ]
  },
  {
   "cell_type": "code",
   "execution_count": 9,
   "id": "8789d26f",
   "metadata": {},
   "outputs": [
    {
     "name": "stdout",
     "output_type": "stream",
     "text": [
      "nope\n"
     ]
    }
   ],
   "source": [
    "#check if a name is in the list exists in the list\n",
    "if \"Bruh\" in new_names:\n",
    "    print(\"present\")\n",
    "else:\n",
    "    print(\"nope\")"
   ]
  },
  {
   "cell_type": "code",
   "execution_count": 10,
   "id": "1e8102e9",
   "metadata": {},
   "outputs": [
    {
     "name": "stdout",
     "output_type": "stream",
     "text": [
      "present\n"
     ]
    }
   ],
   "source": [
    "if \"Bob\" in new_names:\n",
    "    print(\"present\")"
   ]
  },
  {
   "cell_type": "code",
   "execution_count": 11,
   "id": "761eedba",
   "metadata": {},
   "outputs": [
    {
     "data": {
      "text/plain": [
       "['Fatmata', 'Davida', 'Bob', 'Charlie', 'Ian', 'Jet']"
      ]
     },
     "execution_count": 11,
     "metadata": {},
     "output_type": "execute_result"
    }
   ],
   "source": [
    "#add two lists \n",
    "more_names = [\"Ian\", \"Jet\"]\n",
    "new_names = new_names + more_names\n",
    "new_names"
   ]
  },
  {
   "cell_type": "code",
   "execution_count": 12,
   "id": "2b7deef8",
   "metadata": {},
   "outputs": [
    {
     "data": {
      "text/plain": [
       "['Bob', 'Charlie', 'Davida', 'Fatmata', 'Ian', 'Jet']"
      ]
     },
     "execution_count": 12,
     "metadata": {},
     "output_type": "execute_result"
    }
   ],
   "source": [
    "#Sort the names\n",
    "new_names.sort()\n",
    "new_names"
   ]
  },
  {
   "cell_type": "code",
   "execution_count": 13,
   "id": "a4c16082",
   "metadata": {},
   "outputs": [
    {
     "name": "stdout",
     "output_type": "stream",
     "text": [
      "Bob\n",
      "Charlie\n",
      "Davida\n",
      "Fatmata\n",
      "Ian\n",
      "Jet\n"
     ]
    }
   ],
   "source": [
    "#print a list as a string\n",
    "for x in range(len(new_names)):\n",
    "    print (new_names[x])"
   ]
  },
  {
   "cell_type": "code",
   "execution_count": 14,
   "id": "9db3ccaa",
   "metadata": {},
   "outputs": [
    {
     "name": "stdout",
     "output_type": "stream",
     "text": [
      "[1, 2]\n"
     ]
    },
    {
     "data": {
      "text/plain": [
       "3"
      ]
     },
     "execution_count": 14,
     "metadata": {},
     "output_type": "execute_result"
    }
   ],
   "source": [
    "#Two Sum Array \n",
    "array_numbers = [1,2]\n",
    "print(array_numbers)\n",
    "sum_array= sum (array_numbers[:1] , array_numbers[-1])\n",
    "sum_array"
   ]
  },
  {
   "cell_type": "code",
   "execution_count": 15,
   "id": "97913ea7",
   "metadata": {},
   "outputs": [],
   "source": [
    "#Create an array an/d target\n",
    "two_sum_array1 = [4,5]\n",
    "two_sum_target1 = 9\n",
    "two_sum_array2 = [3,5]\n",
    "two_sum_target2 = 9\n",
    "#create function that takes an array and the target value\n",
    "def two_sum(arr, target):\n",
    "    values = dict()\n",
    "    for i , element in enumerate(arr): #maps the value in the dictionary\n",
    "        comp = target - element\n",
    "        if comp in values:\n",
    "            return[values[comp],i]\n",
    "    values[element] = i\n",
    "    return []\n",
    "    "
   ]
  },
  {
   "cell_type": "code",
   "execution_count": 16,
   "id": "db366478",
   "metadata": {},
   "outputs": [],
   "source": [
    "#Reverse a String \n",
    "\n",
    "class Solution:\n",
    "    def reverseString(self, s):\n",
    "        s.reverse()"
   ]
  },
  {
   "cell_type": "code",
   "execution_count": null,
   "id": "baa537bf",
   "metadata": {},
   "outputs": [],
   "source": []
  }
 ],
 "metadata": {
  "kernelspec": {
   "display_name": "Python 3 (ipykernel)",
   "language": "python",
   "name": "python3"
  },
  "language_info": {
   "codemirror_mode": {
    "name": "ipython",
    "version": 3
   },
   "file_extension": ".py",
   "mimetype": "text/x-python",
   "name": "python",
   "nbconvert_exporter": "python",
   "pygments_lexer": "ipython3",
   "version": "3.9.7"
  }
 },
 "nbformat": 4,
 "nbformat_minor": 5
}
